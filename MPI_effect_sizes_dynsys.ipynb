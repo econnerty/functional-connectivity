{
 "cells": [
  {
   "cell_type": "code",
   "execution_count": 6,
   "id": "782a4a32-bcd4-46b7-99f3-fc9d27d78025",
   "metadata": {},
   "outputs": [],
   "source": [
    "import pandas as pd\n",
    "import glob\n",
    "import xarray as xr\n",
    "import numpy as np"
   ]
  },
  {
   "cell_type": "code",
   "execution_count": 2,
   "id": "3b005310-7125-4d8c-a84f-423b7a26c4cf",
   "metadata": {},
   "outputs": [],
   "source": [
    "ordered_list = ['frontalpole-rh', 'frontalpole-lh', 'rostralmiddlefrontal-rh', 'rostralmiddlefrontal-lh', 'parsorbitalis-rh',\n",
    "                'parsorbitalis-lh', 'medialorbitofrontal-rh', 'medialorbitofrontal-lh', 'rostralanteriorcingulate-rh', \n",
    "                'rostralanteriorcingulate-lh', 'parstriangularis-rh', 'parstriangularis-lh', 'lateralorbitofrontal-rh', \n",
    "                'lateralorbitofrontal-lh', 'superiorfrontal-rh', 'superiorfrontal-lh', 'caudalanteriorcingulate-rh',\n",
    "                'caudalanteriorcingulate-lh', 'parsopercularis-rh', 'parsopercularis-lh', 'caudalmiddlefrontal-rh', \n",
    "                'caudalmiddlefrontal-lh', 'temporalpole-rh', 'temporalpole-lh', 'insula-rh', 'insula-lh', 'entorhinal-rh', \n",
    "                'entorhinal-lh', 'precentral-rh', 'precentral-lh', 'posteriorcingulate-rh', 'posteriorcingulate-lh', \n",
    "                'superiortemporal-rh', 'superiortemporal-lh', 'postcentral-rh', 'postcentral-lh', 'transversetemporal-rh', \n",
    "                'transversetemporal-lh', 'paracentral-rh', 'paracentral-lh', 'middletemporal-rh', 'middletemporal-lh', \n",
    "                'parahippocampal-rh', 'parahippocampal-lh', 'inferiortemporal-rh', 'inferiortemporal-lh', 'supramarginal-rh', \n",
    "                'supramarginal-lh', 'fusiform-rh', 'fusiform-lh', 'bankssts-rh', 'bankssts-lh', 'isthmuscingulate-rh', \n",
    "                'isthmuscingulate-lh', 'precuneus-rh', 'precuneus-lh', 'superiorparietal-rh', 'superiorparietal-lh', \n",
    "                'inferiorparietal-rh', 'inferiorparietal-lh', 'lingual-rh', 'lingual-lh', 'cuneus-rh', 'cuneus-lh', \n",
    "                'pericalcarine-rh', 'pericalcarine-lh', 'lateraloccipital-rh', 'lateraloccipital-lh']"
   ]
  },
  {
   "cell_type": "code",
   "execution_count": 3,
   "id": "87044482-a23f-43eb-8e87-fcff9a4ed8fa",
   "metadata": {},
   "outputs": [],
   "source": [
    "brainder_list = []\n",
    "for i in range(len(ordered_list)):\n",
    "    name = ordered_list[i].split('-')[1] + '.pial.DK' + '.' + ordered_list[i].split('-')[0]\n",
    "    brainder_list.append(name)"
   ]
  },
  {
   "cell_type": "code",
   "execution_count": 8,
   "id": "b4a1c6ff-94be-48bf-b97e-4cbb21563fba",
   "metadata": {},
   "outputs": [],
   "source": [
    "methods = ['dynsys']\n",
    "conditions = ['EC','EO']"
   ]
  },
  {
   "cell_type": "code",
   "execution_count": null,
   "id": "f681bdd5-19f9-43e8-b316-b8aefb379e2e",
   "metadata": {},
   "outputs": [],
   "source": [
    "#mean and std matrix generation"
   ]
  },
  {
   "cell_type": "code",
   "execution_count": 18,
   "id": "f11e2ad5-b4f9-487f-bc13-3f02e4d17d5e",
   "metadata": {},
   "outputs": [],
   "source": [
    "for method in methods:\n",
    "    for condition in conditions:\n",
    "        xarrays = glob.glob(f'/scratch/{method}/*{method}_{condition}_alpha.nc')\n",
    "        \n",
    "        xarrays_combined = []\n",
    "        subjects = []\n",
    "        for array in xarrays:\n",
    "            subject = array.split('/')[3].split('_')[0]\n",
    "            subjects.append(subject)\n",
    "            xarrays_combined.append(xr.open_dataarray(array))\n",
    "        \n",
    "        xarrays_combined = xr.concat(xarrays_combined, pd.Index(subjects, name=\"subjects\"))\n",
    "        \n",
    "        mean_df = xarrays_combined.mean(dim=[\"bootstrap_samples\",\"subjects\"]).values\n",
    "        mean_df = pd.DataFrame(mean_df)\n",
    "        mean_df.columns = xarrays_combined.region1.values\n",
    "        mean_df.index = xarrays_combined.region1.values\n",
    "\n",
    "        ordered_mean_df = []\n",
    "        for region in ordered_list:\n",
    "            ordered_mean_df.append(mean_df[region].values)\n",
    "    \n",
    "        ordered_mean_df = pd.DataFrame(np.array(ordered_mean_df))\n",
    "    \n",
    "        ordered_mean_df.columns = ordered_list\n",
    "        ordered_mean_df.index = xarrays_combined.region1.values\n",
    "\n",
    "        ordered_mean_df_2 = []\n",
    "        for region in ordered_list:\n",
    "            ordered_mean_df_2.append(ordered_mean_df[region].values)\n",
    "    \n",
    "        ordered_mean_df_2 = pd.DataFrame(ordered_mean_df_2)\n",
    "        ordered_mean_df_2.index = brainder_list\n",
    "        ordered_mean_df_2.columns = brainder_list\n",
    "        \n",
    "        ordered_mean_df_2.to_csv(f'/scratch/{method}_{condition}_mean_df.csv',header=True,index=False)\n",
    "        \n",
    "        std_df = xarrays_combined.std(dim=[\"bootstrap_samples\",\"subjects\"]).values \n",
    "        std_df = pd.DataFrame(std_df)\n",
    "        std_df.columns = xarrays_combined.region1.values\n",
    "        std_df.index = xarrays_combined.region1.values\n",
    "        \n",
    "        ordered_std_df = []\n",
    "        for region in ordered_list:\n",
    "            ordered_std_df.append(std_df[region].values)\n",
    "    \n",
    "        ordered_std_df = pd.DataFrame(np.array(ordered_std_df))\n",
    "    \n",
    "        ordered_std_df.columns = ordered_list\n",
    "        ordered_std_df.index = xarrays_combined.region1.values\n",
    "\n",
    "        ordered_std_df_2 = []\n",
    "        for region in ordered_list:\n",
    "            ordered_std_df_2.append(ordered_std_df[region].values)\n",
    "    \n",
    "        ordered_std_df_2 = pd.DataFrame(np.array(ordered_std_df_2))\n",
    "    \n",
    "        ordered_std_df_2.columns = brainder_list\n",
    "        ordered_std_df_2.index = brainder_list\n",
    "        \n",
    "        ordered_std_df_2.to_csv(f'/scratch/{method}_{condition}_std_df.csv',header=True,index=False)"
   ]
  },
  {
   "cell_type": "code",
   "execution_count": null,
   "id": "56f44373-39d2-4a33-b34f-b9c32eb5ba58",
   "metadata": {},
   "outputs": [],
   "source": [
    "#cohens_d calculation"
   ]
  },
  {
   "cell_type": "code",
   "execution_count": 46,
   "id": "722e6d73-317e-443c-b6be-cbe521e92136",
   "metadata": {},
   "outputs": [],
   "source": [
    "for method in methods:\n",
    "    mean_ec = pd.read_csv(f'/scratch/{method}_EC_mean_df.csv')\n",
    "    mean_eo = pd.read_csv(f'/scratch/{method}_EO_mean_df.csv')\n",
    "    std_ec = pd.read_csv(f'/scratch/{method}_EC_std_df.csv')\n",
    "    std_eo = pd.read_csv(f'/scratch/{method}_EO_std_df.csv')\n",
    "    \n",
    "    len_ec = 67200\n",
    "    len_eo = 67200\n",
    "    \n",
    "    pooled_sd = np.sqrt(((len_ec-1)*(std_ec**2) + (len_eo-1)*(std_eo**2))/(len_ec + len_eo - 2))\n",
    "    \n",
    "    cohens_d = (mean_ec - mean_eo)/pooled_sd\n",
    "    cohens_d.to_csv(f'/scratch/{method}_cohens_d.csv',header=True,index=False)"
   ]
  },
  {
   "cell_type": "code",
   "execution_count": null,
   "id": "7792ff70-e0fa-43a1-8941-bf8bc692b1d0",
   "metadata": {},
   "outputs": [],
   "source": [
    "#visual"
   ]
  },
  {
   "cell_type": "code",
   "execution_count": null,
   "id": "671f025e-5eae-4223-a25c-48dfbea0c9de",
   "metadata": {},
   "outputs": [],
   "source": [
    "ordered_list_visual =['fusiform-rh', 'fusiform-lh', 'lingual-rh', 'lingual-lh', 'cuneus-rh', 'cuneus-lh',\n",
    "                      'lateraloccipital-rh', 'lateraloccipital-lh']"
   ]
  },
  {
   "cell_type": "code",
   "execution_count": null,
   "id": "a486cc59-e227-4d65-acd0-7d131e1798bd",
   "metadata": {},
   "outputs": [],
   "source": [
    "for method in methods:\n",
    "    for condition in conditions:\n",
    "        xarrays = glob.glob(f'/scratch/{method}/*{method}_{condition}_alpha.nc')\n",
    "        \n",
    "        xarrays_combined = []\n",
    "        subjects = []\n",
    "        for array in xarrays:\n",
    "            subject = array.split('/')[3].split('_')[0]\n",
    "            subjects.append(subject)\n",
    "            xarrays_combined.append(xr.open_dataarray(array))\n",
    "        \n",
    "        xarrays_combined = xr.concat(xarrays_combined, pd.Index(subjects, name=\"subjects\"))\n",
    "        \n",
    "        xarrays_combined = xarrays_combined.sel(region1=ordered_list_visual,region2=ordered_list_visual)\n",
    "        mean_df = xarrays_combined.mean(dim=[\"bootstrap_samples\",\"subjects\"]).values\n",
    "        mean_df = pd.DataFrame(mean_df)\n",
    "        mean_df.columns = xarrays_combined.region1.values\n",
    "        mean_df.index = xarrays_combined.region1.values\n",
    "\n",
    "        mean_df.to_csv(f'/scratch/{method}_{condition}_mean_df_visual.csv',header=True,index=False)\n",
    "\n",
    "        std_df = xarrays_combined.std(dim=[\"bootstrap_samples\",\"subjects\"]).values\n",
    "        std_df = pd.DataFrame(std_df)\n",
    "        std_df.columns = xarrays_combined.region1.values\n",
    "        std_df.index = xarrays_combined.region1.values\n",
    "        \n",
    "        std_df.to_csv(f'/scratch/{method}_{condition}_std_df_visual.csv',header=True,index=False)"
   ]
  },
  {
   "cell_type": "code",
   "execution_count": null,
   "id": "7d15ead0-81cb-4142-8d30-13c24d6d7e43",
   "metadata": {},
   "outputs": [],
   "source": [
    "for method in methods:\n",
    "    mean_ec = pd.read_csv(f'/scratch/{method}_EC_mean_df_visual.csv')\n",
    "    mean_eo = pd.read_csv(f'/scratch/{method}_EO_mean_df_visual.csv')\n",
    "    std_ec = pd.read_csv(f'/scratch/{method}_EC_std_df_visual.csv')\n",
    "    std_eo = pd.read_csv(f'/scratch/{method}_EO_std_df_visual.csv')\n",
    "    \n",
    "    len_ec = 67200\n",
    "    len_eo = 67200\n",
    "    \n",
    "    pooled_sd = np.sqrt(((len_ec-1)*(std_ec**2) + (len_eo-1)*(std_eo**2))/(len_ec + len_eo - 2))\n",
    "    \n",
    "    cohens_d = (mean_ec - mean_eo)/pooled_sd\n",
    "    cohens_d.to_csv(f'/scratch/{method}_cohens_d_visual.csv',header=True,index=False)"
   ]
  },
  {
   "cell_type": "code",
   "execution_count": null,
   "id": "302403a5-2e0d-46b6-af03-6bfa5520483f",
   "metadata": {},
   "outputs": [],
   "source": [
    "#dmn"
   ]
  },
  {
   "cell_type": "code",
   "execution_count": null,
   "id": "1730dae9-b5b3-42db-8883-81be8eba3338",
   "metadata": {},
   "outputs": [],
   "source": [
    "ordered_list_dmn = ['medialorbitofrontal-rh','medialorbitofrontal-lh','rostralanteriorcingulate-rh','rostralanteriorcingulate-lh',\n",
    "                    'lateralorbitofrontal-rh','lateralorbitofrontal-lh','parahippocampal-rh','parahippocampal-lh','posteriorcingulate-rh',\n",
    "                    'posteriorcingulate-lh','isthmuscingulate-rh','isthmuscingulate-lh','precuneus-rh','precuneus-lh']"
   ]
  },
  {
   "cell_type": "code",
   "execution_count": null,
   "id": "f051f346-f8c3-4912-9033-7ff7b754cf67",
   "metadata": {},
   "outputs": [],
   "source": [
    "for method in methods:\n",
    "    for condition in conditions:\n",
    "        xarrays = glob.glob(f'/scratch/{method}/*{method}_{condition}_alpha.nc')\n",
    "        \n",
    "        xarrays_combined = []\n",
    "        subjects = []\n",
    "        for array in xarrays:\n",
    "            subject = array.split('/')[3].split('_')[0]\n",
    "            subjects.append(subject)\n",
    "            xarrays_combined.append(xr.open_dataarray(array))\n",
    "        \n",
    "        xarrays_combined = xr.concat(xarrays_combined, pd.Index(subjects, name=\"subjects\"))\n",
    "        \n",
    "        xarrays_combined = xarrays_combined.sel(region1=ordered_list_dmn,region2=ordered_list_dmn)\n",
    "        mean_df = xarrays_combined.mean(dim=[\"bootstrap_samples\",\"subjects\"]).values\n",
    "        mean_df = pd.DataFrame(mean_df)\n",
    "        mean_df.columns = xarrays_combined.region1.values\n",
    "        mean_df.index = xarrays_combined.region1.values\n",
    "\n",
    "        mean_df.to_csv(f'/scratch/{method}_{condition}_mean_df_dmn.csv',header=True,index=False)\n",
    "\n",
    "        std_df = xarrays_combined.std(dim=[\"bootstrap_samples\",\"subjects\"]).values\n",
    "        std_df = pd.DataFrame(std_df)\n",
    "        std_df.columns = xarrays_combined.region1.values\n",
    "        std_df.index = xarrays_combined.region1.values\n",
    "        \n",
    "        std_df.to_csv(f'/scratch/{method}_{condition}_std_df_dmn.csv',header=True,index=False)"
   ]
  },
  {
   "cell_type": "code",
   "execution_count": 10,
   "id": "bb7c2fba-b6b1-47e6-9026-51c0ab4d2d85",
   "metadata": {},
   "outputs": [
    {
     "ename": "FileNotFoundError",
     "evalue": "[Errno 2] No such file or directory: '/scratch/dynsys_EC_mean_df_dmn.csv'",
     "output_type": "error",
     "traceback": [
      "\u001b[0;31m---------------------------------------------------------------------------\u001b[0m",
      "\u001b[0;31mFileNotFoundError\u001b[0m                         Traceback (most recent call last)",
      "Cell \u001b[0;32mIn[10], line 3\u001b[0m\n\u001b[1;32m      1\u001b[0m \u001b[38;5;28;01mfor\u001b[39;00m method \u001b[38;5;129;01min\u001b[39;00m methods:\n\u001b[1;32m      2\u001b[0m     \u001b[38;5;28;01mfor\u001b[39;00m condition \u001b[38;5;129;01min\u001b[39;00m conditions:\n\u001b[0;32m----> 3\u001b[0m         mean_ec \u001b[38;5;241m=\u001b[39m \u001b[43mpd\u001b[49m\u001b[38;5;241;43m.\u001b[39;49m\u001b[43mread_csv\u001b[49m\u001b[43m(\u001b[49m\u001b[38;5;124;43mf\u001b[39;49m\u001b[38;5;124;43m'\u001b[39;49m\u001b[38;5;124;43m/scratch/\u001b[39;49m\u001b[38;5;132;43;01m{\u001b[39;49;00m\u001b[43mmethod\u001b[49m\u001b[38;5;132;43;01m}\u001b[39;49;00m\u001b[38;5;124;43m_EC_mean_df_dmn.csv\u001b[39;49m\u001b[38;5;124;43m'\u001b[39;49m\u001b[43m)\u001b[49m\n\u001b[1;32m      4\u001b[0m         mean_eo \u001b[38;5;241m=\u001b[39m pd\u001b[38;5;241m.\u001b[39mread_csv(\u001b[38;5;124mf\u001b[39m\u001b[38;5;124m'\u001b[39m\u001b[38;5;124m/scratch/\u001b[39m\u001b[38;5;132;01m{\u001b[39;00mmethod\u001b[38;5;132;01m}\u001b[39;00m\u001b[38;5;124m_EO_mean_df_dmn.csv\u001b[39m\u001b[38;5;124m'\u001b[39m)\n\u001b[1;32m      5\u001b[0m         std_ec \u001b[38;5;241m=\u001b[39m pd\u001b[38;5;241m.\u001b[39mread_csv(\u001b[38;5;124mf\u001b[39m\u001b[38;5;124m'\u001b[39m\u001b[38;5;124m/scratch/\u001b[39m\u001b[38;5;132;01m{\u001b[39;00mmethod\u001b[38;5;132;01m}\u001b[39;00m\u001b[38;5;124m_EC_std_df_dmn.csv\u001b[39m\u001b[38;5;124m'\u001b[39m)\n",
      "File \u001b[0;32m/Library/Frameworks/Python.framework/Versions/3.11/lib/python3.11/site-packages/pandas/io/parsers/readers.py:948\u001b[0m, in \u001b[0;36mread_csv\u001b[0;34m(filepath_or_buffer, sep, delimiter, header, names, index_col, usecols, dtype, engine, converters, true_values, false_values, skipinitialspace, skiprows, skipfooter, nrows, na_values, keep_default_na, na_filter, verbose, skip_blank_lines, parse_dates, infer_datetime_format, keep_date_col, date_parser, date_format, dayfirst, cache_dates, iterator, chunksize, compression, thousands, decimal, lineterminator, quotechar, quoting, doublequote, escapechar, comment, encoding, encoding_errors, dialect, on_bad_lines, delim_whitespace, low_memory, memory_map, float_precision, storage_options, dtype_backend)\u001b[0m\n\u001b[1;32m    935\u001b[0m kwds_defaults \u001b[38;5;241m=\u001b[39m _refine_defaults_read(\n\u001b[1;32m    936\u001b[0m     dialect,\n\u001b[1;32m    937\u001b[0m     delimiter,\n\u001b[0;32m   (...)\u001b[0m\n\u001b[1;32m    944\u001b[0m     dtype_backend\u001b[38;5;241m=\u001b[39mdtype_backend,\n\u001b[1;32m    945\u001b[0m )\n\u001b[1;32m    946\u001b[0m kwds\u001b[38;5;241m.\u001b[39mupdate(kwds_defaults)\n\u001b[0;32m--> 948\u001b[0m \u001b[38;5;28;01mreturn\u001b[39;00m \u001b[43m_read\u001b[49m\u001b[43m(\u001b[49m\u001b[43mfilepath_or_buffer\u001b[49m\u001b[43m,\u001b[49m\u001b[43m \u001b[49m\u001b[43mkwds\u001b[49m\u001b[43m)\u001b[49m\n",
      "File \u001b[0;32m/Library/Frameworks/Python.framework/Versions/3.11/lib/python3.11/site-packages/pandas/io/parsers/readers.py:611\u001b[0m, in \u001b[0;36m_read\u001b[0;34m(filepath_or_buffer, kwds)\u001b[0m\n\u001b[1;32m    608\u001b[0m _validate_names(kwds\u001b[38;5;241m.\u001b[39mget(\u001b[38;5;124m\"\u001b[39m\u001b[38;5;124mnames\u001b[39m\u001b[38;5;124m\"\u001b[39m, \u001b[38;5;28;01mNone\u001b[39;00m))\n\u001b[1;32m    610\u001b[0m \u001b[38;5;66;03m# Create the parser.\u001b[39;00m\n\u001b[0;32m--> 611\u001b[0m parser \u001b[38;5;241m=\u001b[39m \u001b[43mTextFileReader\u001b[49m\u001b[43m(\u001b[49m\u001b[43mfilepath_or_buffer\u001b[49m\u001b[43m,\u001b[49m\u001b[43m \u001b[49m\u001b[38;5;241;43m*\u001b[39;49m\u001b[38;5;241;43m*\u001b[39;49m\u001b[43mkwds\u001b[49m\u001b[43m)\u001b[49m\n\u001b[1;32m    613\u001b[0m \u001b[38;5;28;01mif\u001b[39;00m chunksize \u001b[38;5;129;01mor\u001b[39;00m iterator:\n\u001b[1;32m    614\u001b[0m     \u001b[38;5;28;01mreturn\u001b[39;00m parser\n",
      "File \u001b[0;32m/Library/Frameworks/Python.framework/Versions/3.11/lib/python3.11/site-packages/pandas/io/parsers/readers.py:1448\u001b[0m, in \u001b[0;36mTextFileReader.__init__\u001b[0;34m(self, f, engine, **kwds)\u001b[0m\n\u001b[1;32m   1445\u001b[0m     \u001b[38;5;28mself\u001b[39m\u001b[38;5;241m.\u001b[39moptions[\u001b[38;5;124m\"\u001b[39m\u001b[38;5;124mhas_index_names\u001b[39m\u001b[38;5;124m\"\u001b[39m] \u001b[38;5;241m=\u001b[39m kwds[\u001b[38;5;124m\"\u001b[39m\u001b[38;5;124mhas_index_names\u001b[39m\u001b[38;5;124m\"\u001b[39m]\n\u001b[1;32m   1447\u001b[0m \u001b[38;5;28mself\u001b[39m\u001b[38;5;241m.\u001b[39mhandles: IOHandles \u001b[38;5;241m|\u001b[39m \u001b[38;5;28;01mNone\u001b[39;00m \u001b[38;5;241m=\u001b[39m \u001b[38;5;28;01mNone\u001b[39;00m\n\u001b[0;32m-> 1448\u001b[0m \u001b[38;5;28mself\u001b[39m\u001b[38;5;241m.\u001b[39m_engine \u001b[38;5;241m=\u001b[39m \u001b[38;5;28;43mself\u001b[39;49m\u001b[38;5;241;43m.\u001b[39;49m\u001b[43m_make_engine\u001b[49m\u001b[43m(\u001b[49m\u001b[43mf\u001b[49m\u001b[43m,\u001b[49m\u001b[43m \u001b[49m\u001b[38;5;28;43mself\u001b[39;49m\u001b[38;5;241;43m.\u001b[39;49m\u001b[43mengine\u001b[49m\u001b[43m)\u001b[49m\n",
      "File \u001b[0;32m/Library/Frameworks/Python.framework/Versions/3.11/lib/python3.11/site-packages/pandas/io/parsers/readers.py:1705\u001b[0m, in \u001b[0;36mTextFileReader._make_engine\u001b[0;34m(self, f, engine)\u001b[0m\n\u001b[1;32m   1703\u001b[0m     \u001b[38;5;28;01mif\u001b[39;00m \u001b[38;5;124m\"\u001b[39m\u001b[38;5;124mb\u001b[39m\u001b[38;5;124m\"\u001b[39m \u001b[38;5;129;01mnot\u001b[39;00m \u001b[38;5;129;01min\u001b[39;00m mode:\n\u001b[1;32m   1704\u001b[0m         mode \u001b[38;5;241m+\u001b[39m\u001b[38;5;241m=\u001b[39m \u001b[38;5;124m\"\u001b[39m\u001b[38;5;124mb\u001b[39m\u001b[38;5;124m\"\u001b[39m\n\u001b[0;32m-> 1705\u001b[0m \u001b[38;5;28mself\u001b[39m\u001b[38;5;241m.\u001b[39mhandles \u001b[38;5;241m=\u001b[39m \u001b[43mget_handle\u001b[49m\u001b[43m(\u001b[49m\n\u001b[1;32m   1706\u001b[0m \u001b[43m    \u001b[49m\u001b[43mf\u001b[49m\u001b[43m,\u001b[49m\n\u001b[1;32m   1707\u001b[0m \u001b[43m    \u001b[49m\u001b[43mmode\u001b[49m\u001b[43m,\u001b[49m\n\u001b[1;32m   1708\u001b[0m \u001b[43m    \u001b[49m\u001b[43mencoding\u001b[49m\u001b[38;5;241;43m=\u001b[39;49m\u001b[38;5;28;43mself\u001b[39;49m\u001b[38;5;241;43m.\u001b[39;49m\u001b[43moptions\u001b[49m\u001b[38;5;241;43m.\u001b[39;49m\u001b[43mget\u001b[49m\u001b[43m(\u001b[49m\u001b[38;5;124;43m\"\u001b[39;49m\u001b[38;5;124;43mencoding\u001b[39;49m\u001b[38;5;124;43m\"\u001b[39;49m\u001b[43m,\u001b[49m\u001b[43m \u001b[49m\u001b[38;5;28;43;01mNone\u001b[39;49;00m\u001b[43m)\u001b[49m\u001b[43m,\u001b[49m\n\u001b[1;32m   1709\u001b[0m \u001b[43m    \u001b[49m\u001b[43mcompression\u001b[49m\u001b[38;5;241;43m=\u001b[39;49m\u001b[38;5;28;43mself\u001b[39;49m\u001b[38;5;241;43m.\u001b[39;49m\u001b[43moptions\u001b[49m\u001b[38;5;241;43m.\u001b[39;49m\u001b[43mget\u001b[49m\u001b[43m(\u001b[49m\u001b[38;5;124;43m\"\u001b[39;49m\u001b[38;5;124;43mcompression\u001b[39;49m\u001b[38;5;124;43m\"\u001b[39;49m\u001b[43m,\u001b[49m\u001b[43m \u001b[49m\u001b[38;5;28;43;01mNone\u001b[39;49;00m\u001b[43m)\u001b[49m\u001b[43m,\u001b[49m\n\u001b[1;32m   1710\u001b[0m \u001b[43m    \u001b[49m\u001b[43mmemory_map\u001b[49m\u001b[38;5;241;43m=\u001b[39;49m\u001b[38;5;28;43mself\u001b[39;49m\u001b[38;5;241;43m.\u001b[39;49m\u001b[43moptions\u001b[49m\u001b[38;5;241;43m.\u001b[39;49m\u001b[43mget\u001b[49m\u001b[43m(\u001b[49m\u001b[38;5;124;43m\"\u001b[39;49m\u001b[38;5;124;43mmemory_map\u001b[39;49m\u001b[38;5;124;43m\"\u001b[39;49m\u001b[43m,\u001b[49m\u001b[43m \u001b[49m\u001b[38;5;28;43;01mFalse\u001b[39;49;00m\u001b[43m)\u001b[49m\u001b[43m,\u001b[49m\n\u001b[1;32m   1711\u001b[0m \u001b[43m    \u001b[49m\u001b[43mis_text\u001b[49m\u001b[38;5;241;43m=\u001b[39;49m\u001b[43mis_text\u001b[49m\u001b[43m,\u001b[49m\n\u001b[1;32m   1712\u001b[0m \u001b[43m    \u001b[49m\u001b[43merrors\u001b[49m\u001b[38;5;241;43m=\u001b[39;49m\u001b[38;5;28;43mself\u001b[39;49m\u001b[38;5;241;43m.\u001b[39;49m\u001b[43moptions\u001b[49m\u001b[38;5;241;43m.\u001b[39;49m\u001b[43mget\u001b[49m\u001b[43m(\u001b[49m\u001b[38;5;124;43m\"\u001b[39;49m\u001b[38;5;124;43mencoding_errors\u001b[39;49m\u001b[38;5;124;43m\"\u001b[39;49m\u001b[43m,\u001b[49m\u001b[43m \u001b[49m\u001b[38;5;124;43m\"\u001b[39;49m\u001b[38;5;124;43mstrict\u001b[39;49m\u001b[38;5;124;43m\"\u001b[39;49m\u001b[43m)\u001b[49m\u001b[43m,\u001b[49m\n\u001b[1;32m   1713\u001b[0m \u001b[43m    \u001b[49m\u001b[43mstorage_options\u001b[49m\u001b[38;5;241;43m=\u001b[39;49m\u001b[38;5;28;43mself\u001b[39;49m\u001b[38;5;241;43m.\u001b[39;49m\u001b[43moptions\u001b[49m\u001b[38;5;241;43m.\u001b[39;49m\u001b[43mget\u001b[49m\u001b[43m(\u001b[49m\u001b[38;5;124;43m\"\u001b[39;49m\u001b[38;5;124;43mstorage_options\u001b[39;49m\u001b[38;5;124;43m\"\u001b[39;49m\u001b[43m,\u001b[49m\u001b[43m \u001b[49m\u001b[38;5;28;43;01mNone\u001b[39;49;00m\u001b[43m)\u001b[49m\u001b[43m,\u001b[49m\n\u001b[1;32m   1714\u001b[0m \u001b[43m\u001b[49m\u001b[43m)\u001b[49m\n\u001b[1;32m   1715\u001b[0m \u001b[38;5;28;01massert\u001b[39;00m \u001b[38;5;28mself\u001b[39m\u001b[38;5;241m.\u001b[39mhandles \u001b[38;5;129;01mis\u001b[39;00m \u001b[38;5;129;01mnot\u001b[39;00m \u001b[38;5;28;01mNone\u001b[39;00m\n\u001b[1;32m   1716\u001b[0m f \u001b[38;5;241m=\u001b[39m \u001b[38;5;28mself\u001b[39m\u001b[38;5;241m.\u001b[39mhandles\u001b[38;5;241m.\u001b[39mhandle\n",
      "File \u001b[0;32m/Library/Frameworks/Python.framework/Versions/3.11/lib/python3.11/site-packages/pandas/io/common.py:863\u001b[0m, in \u001b[0;36mget_handle\u001b[0;34m(path_or_buf, mode, encoding, compression, memory_map, is_text, errors, storage_options)\u001b[0m\n\u001b[1;32m    858\u001b[0m \u001b[38;5;28;01melif\u001b[39;00m \u001b[38;5;28misinstance\u001b[39m(handle, \u001b[38;5;28mstr\u001b[39m):\n\u001b[1;32m    859\u001b[0m     \u001b[38;5;66;03m# Check whether the filename is to be opened in binary mode.\u001b[39;00m\n\u001b[1;32m    860\u001b[0m     \u001b[38;5;66;03m# Binary mode does not support 'encoding' and 'newline'.\u001b[39;00m\n\u001b[1;32m    861\u001b[0m     \u001b[38;5;28;01mif\u001b[39;00m ioargs\u001b[38;5;241m.\u001b[39mencoding \u001b[38;5;129;01mand\u001b[39;00m \u001b[38;5;124m\"\u001b[39m\u001b[38;5;124mb\u001b[39m\u001b[38;5;124m\"\u001b[39m \u001b[38;5;129;01mnot\u001b[39;00m \u001b[38;5;129;01min\u001b[39;00m ioargs\u001b[38;5;241m.\u001b[39mmode:\n\u001b[1;32m    862\u001b[0m         \u001b[38;5;66;03m# Encoding\u001b[39;00m\n\u001b[0;32m--> 863\u001b[0m         handle \u001b[38;5;241m=\u001b[39m \u001b[38;5;28;43mopen\u001b[39;49m\u001b[43m(\u001b[49m\n\u001b[1;32m    864\u001b[0m \u001b[43m            \u001b[49m\u001b[43mhandle\u001b[49m\u001b[43m,\u001b[49m\n\u001b[1;32m    865\u001b[0m \u001b[43m            \u001b[49m\u001b[43mioargs\u001b[49m\u001b[38;5;241;43m.\u001b[39;49m\u001b[43mmode\u001b[49m\u001b[43m,\u001b[49m\n\u001b[1;32m    866\u001b[0m \u001b[43m            \u001b[49m\u001b[43mencoding\u001b[49m\u001b[38;5;241;43m=\u001b[39;49m\u001b[43mioargs\u001b[49m\u001b[38;5;241;43m.\u001b[39;49m\u001b[43mencoding\u001b[49m\u001b[43m,\u001b[49m\n\u001b[1;32m    867\u001b[0m \u001b[43m            \u001b[49m\u001b[43merrors\u001b[49m\u001b[38;5;241;43m=\u001b[39;49m\u001b[43merrors\u001b[49m\u001b[43m,\u001b[49m\n\u001b[1;32m    868\u001b[0m \u001b[43m            \u001b[49m\u001b[43mnewline\u001b[49m\u001b[38;5;241;43m=\u001b[39;49m\u001b[38;5;124;43m\"\u001b[39;49m\u001b[38;5;124;43m\"\u001b[39;49m\u001b[43m,\u001b[49m\n\u001b[1;32m    869\u001b[0m \u001b[43m        \u001b[49m\u001b[43m)\u001b[49m\n\u001b[1;32m    870\u001b[0m     \u001b[38;5;28;01melse\u001b[39;00m:\n\u001b[1;32m    871\u001b[0m         \u001b[38;5;66;03m# Binary mode\u001b[39;00m\n\u001b[1;32m    872\u001b[0m         handle \u001b[38;5;241m=\u001b[39m \u001b[38;5;28mopen\u001b[39m(handle, ioargs\u001b[38;5;241m.\u001b[39mmode)\n",
      "\u001b[0;31mFileNotFoundError\u001b[0m: [Errno 2] No such file or directory: '/scratch/dynsys_EC_mean_df_dmn.csv'"
     ]
    }
   ],
   "source": [
    "for method in methods:\n",
    "    for condition in conditions:\n",
    "        mean_ec = pd.read_csv(f'/scratch/{method}_EC_mean_df_dmn.csv')\n",
    "        mean_eo = pd.read_csv(f'/scratch/{method}_EO_mean_df_dmn.csv')\n",
    "        std_ec = pd.read_csv(f'/scratch/{method}_EC_std_df_dmn.csv')\n",
    "        std_eo = pd.read_csv(f'/scratch/{method}_EO_std_df_dmn.csv')\n",
    "        \n",
    "        len_ec = 67200\n",
    "        len_eo = 67200\n",
    "        \n",
    "        pooled_sd = np.sqrt(((len_ec-1)*(std_ec**2) + (len_eo-1)*(std_eo**2))/(len_ec + len_eo - 2))\n",
    "        \n",
    "        cohens_d = (mean_ec - mean_eo)/pooled_sd\n",
    "        cohens_d.to_csv(f'/scratch/{method}_cohens_d_dmn.csv',header=True,index=False)"
   ]
  },
  {
   "cell_type": "code",
   "execution_count": null,
   "id": "1d120a7f-71e2-42a5-a59a-a2f756bc9a26",
   "metadata": {},
   "outputs": [],
   "source": []
  },
  {
   "cell_type": "code",
   "execution_count": null,
   "id": "bf33eebb-f797-4e46-aec0-3883910f6f0c",
   "metadata": {},
   "outputs": [],
   "source": []
  }
 ],
 "metadata": {
  "kernelspec": {
   "display_name": "Python 3 (ipykernel)",
   "language": "python",
   "name": "python3"
  },
  "language_info": {
   "codemirror_mode": {
    "name": "ipython",
    "version": 3
   },
   "file_extension": ".py",
   "mimetype": "text/x-python",
   "name": "python",
   "nbconvert_exporter": "python",
   "pygments_lexer": "ipython3",
   "version": "3.11.5"
  }
 },
 "nbformat": 4,
 "nbformat_minor": 5
}
