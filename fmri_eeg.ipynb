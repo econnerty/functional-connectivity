{
 "cells": [
  {
   "cell_type": "code",
   "execution_count": 1,
   "metadata": {},
   "outputs": [],
   "source": [
    "import netCDF4 as nc\n",
    "import numpy as np\n",
    "import matplotlib.pyplot as plt\n",
    "import seaborn as sns\n",
    "import pandas as pd\n",
    "import mne"
   ]
  },
  {
   "cell_type": "code",
   "execution_count": 4,
   "metadata": {},
   "outputs": [],
   "source": [
    "subject = 'sub-032304'\n",
    "subjects_dir = '~/Code/functional connectivity/'\n",
    "eeg_dir = '~/Code/functional connectivity/eeg'"
   ]
  },
  {
   "cell_type": "code",
   "execution_count": 6,
   "metadata": {},
   "outputs": [
    {
     "name": "stdout",
     "output_type": "stream",
     "text": [
      "Using surface: /Users/erikconnerty/Code/functional connectivity/sub-032304/bem/inner_skull.surf\n",
      "Using surface: /Users/erikconnerty/Code/functional connectivity/sub-032304/bem/outer_skull.surf\n",
      "Using surface: /Users/erikconnerty/Code/functional connectivity/sub-032304/bem/outer_skin.surf\n"
     ]
    },
    {
     "name": "stderr",
     "output_type": "stream",
     "text": [
      "/Users/erikconnerty/anaconda3/lib/python3.11/site-packages/mne/viz/utils.py:165: UserWarning: Matplotlib is currently using module://matplotlib_inline.backend_inline, which is a non-GUI backend, so cannot show the figure.\n",
      "  (fig or plt).show(**kwargs)\n"
     ]
    }
   ],
   "source": [
    "plot_bem_kwargs = dict(\n",
    "    subject=subject,\n",
    "    subjects_dir=subjects_dir,\n",
    "    brain_surfaces=\"white\",\n",
    "    orientation=\"coronal\",\n",
    "    slices=[50, 100, 150, 200],\n",
    ")\n",
    "\n",
    "mne.viz.plot_bem(**plot_bem_kwargs)\n",
    "#Save as pdf\n",
    "plt.savefig('bem-sub_032304.pdf')"
   ]
  },
  {
   "cell_type": "code",
   "execution_count": null,
   "metadata": {},
   "outputs": [],
   "source": []
  }
 ],
 "metadata": {
  "kernelspec": {
   "display_name": "base",
   "language": "python",
   "name": "python3"
  },
  "language_info": {
   "codemirror_mode": {
    "name": "ipython",
    "version": 3
   },
   "file_extension": ".py",
   "mimetype": "text/x-python",
   "name": "python",
   "nbconvert_exporter": "python",
   "pygments_lexer": "ipython3",
   "version": "3.11.5"
  }
 },
 "nbformat": 4,
 "nbformat_minor": 2
}
