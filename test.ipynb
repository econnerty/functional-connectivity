{
 "cells": [
  {
   "cell_type": "code",
   "execution_count": 4,
   "metadata": {},
   "outputs": [
    {
     "name": "stdout",
     "output_type": "stream",
     "text": [
      "Initial matrix:\n",
      "[1, 2, 3]\n",
      "[4, 5, 6]\n",
      "\n",
      "Matrix after appending a new row:\n",
      "[1, 2, 3]\n",
      "[4, 5, 6]\n",
      "[7, 8, 9]\n"
     ]
    }
   ],
   "source": [
    "import numpy as np\n",
    "\n",
    "# Step 1: Create an initial list of lists\n",
    "matrix = [\n",
    "    [1, 2, 3],\n",
    "]\n",
    "matrix.append([4, 5, 6])\n",
    "\n",
    "# Display the initial matrix\n",
    "print(\"Initial matrix:\")\n",
    "for row in matrix:\n",
    "    print(row)\n",
    "\n",
    "# Step 2: Append a new row to the list\n",
    "new_row = [7, 8, 9]\n",
    "matrix.append(new_row)\n",
    "\n",
    "# Display the matrix after appending\n",
    "print(\"\\nMatrix after appending a new row:\")\n",
    "for row in matrix:\n",
    "    print(row)\n",
    "\n"
   ]
  },
  {
   "cell_type": "code",
   "execution_count": 5,
   "metadata": {},
   "outputs": [
    {
     "name": "stdout",
     "output_type": "stream",
     "text": [
      "\n",
      "Transposed matrix:\n",
      "[[1 2 3]\n",
      " [4 5 6]\n",
      " [7 8 9]]\n"
     ]
    }
   ],
   "source": [
    "# Step 3: Convert the list of lists into a NumPy array\n",
    "np_matrix = np.array(matrix)\n",
    "\n",
    "# Step 4: Apply a transpose operation on the NumPy array\n",
    "transposed_matrix = np_matrix  # .T is the transpose operation in NumPy\n",
    "\n",
    "# Display the transposed matrix\n",
    "print(\"\\nTransposed matrix:\")\n",
    "print(transposed_matrix)"
   ]
  }
 ],
 "metadata": {
  "kernelspec": {
   "display_name": "base",
   "language": "python",
   "name": "python3"
  },
  "language_info": {
   "codemirror_mode": {
    "name": "ipython",
    "version": 3
   },
   "file_extension": ".py",
   "mimetype": "text/x-python",
   "name": "python",
   "nbconvert_exporter": "python",
   "pygments_lexer": "ipython3",
   "version": "3.1.0"
  }
 },
 "nbformat": 4,
 "nbformat_minor": 2
}
